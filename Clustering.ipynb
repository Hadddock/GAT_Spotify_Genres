{
 "cells": [
  {
   "cell_type": "markdown",
   "id": "b28a3002",
   "metadata": {},
   "source": [
    "## Imports"
   ]
  },
  {
   "cell_type": "code",
   "execution_count": 7,
   "id": "a8d43cc2",
   "metadata": {},
   "outputs": [],
   "source": [
    "import pickle\n",
    "import matplotlib.pyplot as plt\n",
    "from sklearn.cluster import KMeans"
   ]
  },
  {
   "cell_type": "markdown",
   "id": "631042b0",
   "metadata": {},
   "source": [
    "## Helper Functions"
   ]
  },
  {
   "cell_type": "code",
   "execution_count": 8,
   "id": "4587a8bb",
   "metadata": {},
   "outputs": [],
   "source": [
    "def unpickle_object(pickle_file_name):\n",
    "    with open('track_dataframe.pickle', \"rb\") as input_file:\n",
    "        unpickled_object = pickle.load(input_file)\n",
    "    return unpickled_object"
   ]
  },
  {
   "cell_type": "markdown",
   "id": "d70b3124",
   "metadata": {},
   "source": [
    "## Retrive Dataset"
   ]
  },
  {
   "cell_type": "code",
   "execution_count": 10,
   "id": "8f957891",
   "metadata": {},
   "outputs": [],
   "source": [
    "df = unpickle_object('track_dataframe.pickle')"
   ]
  },
  {
   "cell_type": "code",
   "execution_count": 16,
   "id": "e7649f9f",
   "metadata": {},
   "outputs": [
    {
     "data": {
      "text/html": [
       "<div>\n",
       "<style scoped>\n",
       "    .dataframe tbody tr th:only-of-type {\n",
       "        vertical-align: middle;\n",
       "    }\n",
       "\n",
       "    .dataframe tbody tr th {\n",
       "        vertical-align: top;\n",
       "    }\n",
       "\n",
       "    .dataframe thead th {\n",
       "        text-align: right;\n",
       "    }\n",
       "</style>\n",
       "<table border=\"1\" class=\"dataframe\">\n",
       "  <thead>\n",
       "    <tr style=\"text-align: right;\">\n",
       "      <th></th>\n",
       "      <th>danceability</th>\n",
       "      <th>energy</th>\n",
       "      <th>instrumentalness</th>\n",
       "      <th>liveness</th>\n",
       "      <th>valence</th>\n",
       "    </tr>\n",
       "  </thead>\n",
       "  <tbody>\n",
       "    <tr>\n",
       "      <th>0</th>\n",
       "      <td>0.904</td>\n",
       "      <td>0.813</td>\n",
       "      <td>0.006970</td>\n",
       "      <td>0.0471</td>\n",
       "      <td>0.810</td>\n",
       "    </tr>\n",
       "    <tr>\n",
       "      <th>1</th>\n",
       "      <td>0.774</td>\n",
       "      <td>0.838</td>\n",
       "      <td>0.025000</td>\n",
       "      <td>0.2420</td>\n",
       "      <td>0.924</td>\n",
       "    </tr>\n",
       "    <tr>\n",
       "      <th>2</th>\n",
       "      <td>0.664</td>\n",
       "      <td>0.758</td>\n",
       "      <td>0.000000</td>\n",
       "      <td>0.0598</td>\n",
       "      <td>0.701</td>\n",
       "    </tr>\n",
       "    <tr>\n",
       "      <th>3</th>\n",
       "      <td>0.892</td>\n",
       "      <td>0.714</td>\n",
       "      <td>0.000234</td>\n",
       "      <td>0.0521</td>\n",
       "      <td>0.817</td>\n",
       "    </tr>\n",
       "    <tr>\n",
       "      <th>4</th>\n",
       "      <td>0.853</td>\n",
       "      <td>0.606</td>\n",
       "      <td>0.000000</td>\n",
       "      <td>0.3130</td>\n",
       "      <td>0.654</td>\n",
       "    </tr>\n",
       "    <tr>\n",
       "      <th>...</th>\n",
       "      <td>...</td>\n",
       "      <td>...</td>\n",
       "      <td>...</td>\n",
       "      <td>...</td>\n",
       "      <td>...</td>\n",
       "    </tr>\n",
       "    <tr>\n",
       "      <th>34438</th>\n",
       "      <td>0.669</td>\n",
       "      <td>0.228</td>\n",
       "      <td>0.065000</td>\n",
       "      <td>0.0944</td>\n",
       "      <td>0.402</td>\n",
       "    </tr>\n",
       "    <tr>\n",
       "      <th>34439</th>\n",
       "      <td>0.493</td>\n",
       "      <td>0.727</td>\n",
       "      <td>0.000000</td>\n",
       "      <td>0.1290</td>\n",
       "      <td>0.289</td>\n",
       "    </tr>\n",
       "    <tr>\n",
       "      <th>34440</th>\n",
       "      <td>0.702</td>\n",
       "      <td>0.524</td>\n",
       "      <td>0.055300</td>\n",
       "      <td>0.2980</td>\n",
       "      <td>0.265</td>\n",
       "    </tr>\n",
       "    <tr>\n",
       "      <th>34441</th>\n",
       "      <td>0.509</td>\n",
       "      <td>0.286</td>\n",
       "      <td>0.000012</td>\n",
       "      <td>0.1310</td>\n",
       "      <td>0.259</td>\n",
       "    </tr>\n",
       "    <tr>\n",
       "      <th>34442</th>\n",
       "      <td>0.639</td>\n",
       "      <td>0.461</td>\n",
       "      <td>0.000057</td>\n",
       "      <td>0.1120</td>\n",
       "      <td>0.264</td>\n",
       "    </tr>\n",
       "  </tbody>\n",
       "</table>\n",
       "<p>34443 rows × 5 columns</p>\n",
       "</div>"
      ],
      "text/plain": [
       "       danceability  energy  instrumentalness  liveness  valence\n",
       "0             0.904   0.813          0.006970    0.0471    0.810\n",
       "1             0.774   0.838          0.025000    0.2420    0.924\n",
       "2             0.664   0.758          0.000000    0.0598    0.701\n",
       "3             0.892   0.714          0.000234    0.0521    0.817\n",
       "4             0.853   0.606          0.000000    0.3130    0.654\n",
       "...             ...     ...               ...       ...      ...\n",
       "34438         0.669   0.228          0.065000    0.0944    0.402\n",
       "34439         0.493   0.727          0.000000    0.1290    0.289\n",
       "34440         0.702   0.524          0.055300    0.2980    0.265\n",
       "34441         0.509   0.286          0.000012    0.1310    0.259\n",
       "34442         0.639   0.461          0.000057    0.1120    0.264\n",
       "\n",
       "[34443 rows x 5 columns]"
      ]
     },
     "metadata": {},
     "output_type": "display_data"
    }
   ],
   "source": [
    "track_features = df[[\"danceability\", \"energy\",'instrumentalness', \"liveness\", 'valence']]\n",
    "display(track_features)"
   ]
  },
  {
   "cell_type": "code",
   "execution_count": 19,
   "id": "7c7df9c2",
   "metadata": {},
   "outputs": [
    {
     "name": "stdout",
     "output_type": "stream",
     "text": [
      "[2 2 2 ... 1 1 1]\n"
     ]
    }
   ],
   "source": [
    "kmeans = KMeans(\n",
    "    init=\"random\",\n",
    "    n_clusters=3,\n",
    "    n_init=10,\n",
    "    max_iter=300,\n",
    "    random_state=42\n",
    ")\n",
    "kmeans.fit(track_features)\n",
    "ymeans = kmeans.predict(track_features)\n",
    "print(ymeans)"
   ]
  },
  {
   "cell_type": "markdown",
   "id": "a3838140",
   "metadata": {},
   "source": [
    "## Plot clusters"
   ]
  },
  {
   "cell_type": "code",
   "execution_count": null,
   "id": "835b24f0",
   "metadata": {},
   "outputs": [],
   "source": []
  }
 ],
 "metadata": {
  "kernelspec": {
   "display_name": "Python 3",
   "language": "python",
   "name": "python3"
  },
  "language_info": {
   "codemirror_mode": {
    "name": "ipython",
    "version": 3
   },
   "file_extension": ".py",
   "mimetype": "text/x-python",
   "name": "python",
   "nbconvert_exporter": "python",
   "pygments_lexer": "ipython3",
   "version": "3.8.10"
  }
 },
 "nbformat": 4,
 "nbformat_minor": 5
}
